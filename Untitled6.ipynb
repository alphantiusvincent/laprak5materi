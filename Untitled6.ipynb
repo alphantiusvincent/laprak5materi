{
  "nbformat": 4,
  "nbformat_minor": 0,
  "metadata": {
    "colab": {
      "provenance": []
    },
    "kernelspec": {
      "name": "python3",
      "display_name": "Python 3"
    },
    "language_info": {
      "name": "python"
    }
  },
  "cells": [
    {
      "cell_type": "code",
      "execution_count": null,
      "metadata": {
        "id": "xCp2GvBDQAXu"
      },
      "outputs": [],
      "source": [
        "#  print 1-100\n",
        "for i in range(1, 101):\n",
        "    print(i)"
      ]
    },
    {
      "cell_type": "code",
      "source": [
        "for _ in range(1, 101):\n",
        "    print(\"Hello World\")"
      ],
      "metadata": {
        "id": "1rdgqorIQCEH"
      },
      "execution_count": null,
      "outputs": []
    },
    {
      "cell_type": "code",
      "source": [
        "for i in range(100, 1, -2):\n",
        "    print(i)\n",
        "\n"
      ],
      "metadata": {
        "id": "iVGawbRuQCPC"
      },
      "execution_count": null,
      "outputs": []
    },
    {
      "cell_type": "code",
      "source": [
        "# Berikut ini adalah contoh perulangan dengan menggunakan while yang digunakan untuk\n",
        "# memastikan input yang dimasukkan oleh pengguna adalah bilangan genap:\n",
        "\n",
        "bilangan = 0\n",
        "genap = False\n",
        "while genap == False:\n",
        "    bilangan = int(input(\"Masukkan bilangan genap: \"))\n",
        "    if bilangan % 2 == 0:\n",
        "      genap = True\n",
        "print(bilangan, \"yang anda masukkan adalah bilangan genap\")"
      ],
      "metadata": {
        "id": "WQ2_fMdRejtq"
      },
      "execution_count": null,
      "outputs": []
    },
    {
      "cell_type": "code",
      "source": [
        "for i in range(1, 11):\n",
        "    print(i)\n",
        "print('Selesai')\n"
      ],
      "metadata": {
        "id": "H3J3scJLej3r"
      },
      "execution_count": null,
      "outputs": []
    },
    {
      "cell_type": "code",
      "source": [
        "for i in range(1, 11):\n",
        "    if i == 5:\n",
        "        break\n",
        "    else:\n",
        "        print(i)\n",
        "print('Selesai')\n"
      ],
      "metadata": {
        "id": "jCn39_dxekBa"
      },
      "execution_count": null,
      "outputs": []
    },
    {
      "cell_type": "code",
      "source": [
        "#gmw nampilin angka 6\n",
        "for i in range(1, 11):\n",
        "    if i == 6:\n",
        "        continue\n",
        "    else:\n",
        "        print(i)\n",
        "print('Selesai')\n",
        "\n"
      ],
      "metadata": {
        "id": "a4rZywmbQCV1"
      },
      "execution_count": null,
      "outputs": []
    },
    {
      "cell_type": "code",
      "source": [
        "i = 1\n",
        "while i <= 10:\n",
        "      print(i)\n",
        "      i = i + 1\n"
      ],
      "metadata": {
        "id": "OKecz_HnQCb5"
      },
      "execution_count": null,
      "outputs": []
    },
    {
      "cell_type": "code",
      "source": [
        "def fibo(batas):\n",
        "    bil1 = 1\n",
        "    bil2 = 1\n",
        "# tampilkan dua suku fibonacci pertama\n",
        "    if bil1 < batas:\n",
        "            print(bil1, end='\\t')\n",
        "            print(bil2, end='\\t')\n",
        "# suku-suku berikutnya dari bil1 + bil2\n",
        "    suku_baru = bil1 + bil2\n",
        "    while suku_baru < batas:\n",
        "        print(suku_baru, end='\\t')\n",
        "# geser bil1 dan bil2\n",
        "        bil1 = bil2\n",
        "        bil2 = suku_baru\n",
        "# hitung lagi suku berikutnya\n",
        "        suku_baru = bil1 + bil2\n",
        "# program utama\n",
        "batas = int(input('Masukkan batas dari deret fibonacci: '))\n",
        "fibo(batas)"
      ],
      "metadata": {
        "id": "tguMJtOyQDEK"
      },
      "execution_count": null,
      "outputs": []
    },
    {
      "cell_type": "code",
      "source": [
        "def konvergen(start):\n",
        "    suku = start\n",
        "    while suku != 1:\n",
        "        print(suku)\n",
        "        if suku % 2 == 0:\n",
        "            suku = suku // 2\n",
        "        else:\n",
        "            suku = suku * 3 + 1\n",
        "# bagian utama program\n",
        "start = int(input('Masukkan suku pertama dari deret konvergen: '))\n",
        "konvergen(start)"
      ],
      "metadata": {
        "id": "7Y2iRVMCelgw"
      },
      "execution_count": null,
      "outputs": []
    },
    {
      "cell_type": "code",
      "source": [],
      "metadata": {
        "id": "xdWZMi6telqG"
      },
      "execution_count": null,
      "outputs": []
    }
  ]
}